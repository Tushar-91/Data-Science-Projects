{
 "cells": [
  {
   "cell_type": "code",
   "execution_count": 5,
   "metadata": {},
   "outputs": [],
   "source": [
    "import requests\n",
    "import json\n",
    "#627c28c07ad221c65491bbffea6f5d54\n",
    "#68a952b60155797d28def1585d888b9f\n",
    "#a1460684c45b3ba1a38a6b1473597055\n",
    "#399720f6f904f106e162cd2bd0011a6f\n",
    "#816c8c7a9e52da5bd2dcc0446558288d"
   ]
  },
  {
   "cell_type": "code",
   "execution_count": 6,
   "metadata": {},
   "outputs": [],
   "source": [
    "user_key = \"627c28c07ad221c65491bbffea6f5d54\"\n",
    "basic_api = 'https://developers.zomato.com/api/v2.1'\n",
    "header = {\"User-agent\":\"curl/7.43.0\",\"Accept\":\"application/json\",\"user-key\":user_key}"
   ]
  },
  {
   "cell_type": "code",
   "execution_count": 7,
   "metadata": {},
   "outputs": [
    {
     "name": "stdout",
     "output_type": "stream",
     "text": [
      "73\n"
     ]
    }
   ],
   "source": [
    "response = requests.get(basic_api + '/cuisines',headers = header,params = {'city_id' : 1})\n",
    "data = response.json()\n",
    "for i in data['cuisines']:\n",
    "    if(i['cuisine']['cuisine_name']=='Mexican'):\n",
    "        print(i['cuisine']['cuisine_id'])"
   ]
  },
  {
   "cell_type": "code",
   "execution_count": 8,
   "metadata": {},
   "outputs": [
    {
     "name": "stdout",
     "output_type": "stream",
     "text": [
      "subzone\n",
      "104\n"
     ]
    }
   ],
   "source": [
    "response = requests.get(basic_api + '/locations',headers = header,params = {'query' : 'Connaught Place'})\n",
    "data = response.json()\n",
    "for i in data['location_suggestions']:\n",
    "    print(i['entity_type'])\n",
    "    print(i['entity_id'])"
   ]
  },
  {
   "cell_type": "code",
   "execution_count": 14,
   "metadata": {},
   "outputs": [
    {
     "name": "stdout",
     "output_type": "stream",
     "text": [
      "Name of restaurant : Station Bar\n",
      "User-Rating : 4.5\n",
      "Restaurant-ID : 18851371\n",
      "---------------------------------------------------------------------------------------------------------------------\n",
      "Name of restaurant : 38 Barracks\n",
      "User-Rating : 4.4\n",
      "Restaurant-ID : 18241537\n",
      "---------------------------------------------------------------------------------------------------------------------\n",
      "Name of restaurant : Master Of Malts\n",
      "User-Rating : 4.4\n",
      "Restaurant-ID : 18391149\n",
      "---------------------------------------------------------------------------------------------------------------------\n",
      "Name of restaurant : Chili's Grill & Bar\n",
      "User-Rating : 4.4\n",
      "Restaurant-ID : 18537536\n",
      "---------------------------------------------------------------------------------------------------------------------\n",
      "Name of restaurant : Local\n",
      "User-Rating : 4.3\n",
      "Restaurant-ID : 18382360\n",
      "---------------------------------------------------------------------------------------------------------------------\n",
      "Name of restaurant : The Junkyard Cafe\n",
      "User-Rating : 4.3\n",
      "Restaurant-ID : 313256\n",
      "---------------------------------------------------------------------------------------------------------------------\n",
      "Name of restaurant : Ministry Of Beer\n",
      "User-Rating : 4.3\n",
      "Restaurant-ID : 18418277\n",
      "---------------------------------------------------------------------------------------------------------------------\n",
      "Name of restaurant : Farzi Cafe\n",
      "User-Rating : 4.3\n",
      "Restaurant-ID : 18233593\n",
      "---------------------------------------------------------------------------------------------------------------------\n",
      "Name of restaurant : The Darzi Bar & Kitchen\n",
      "User-Rating : 4.3\n",
      "Restaurant-ID : 18423151\n",
      "---------------------------------------------------------------------------------------------------------------------\n",
      "Name of restaurant : Teddy Boy\n",
      "User-Rating : 4.3\n",
      "Restaurant-ID : 18281985\n",
      "---------------------------------------------------------------------------------------------------------------------\n"
     ]
    }
   ],
   "source": [
    "cp_entity_type = 'subzone'\n",
    "cp_entity_id = 104\n",
    "cuisine_id = 73\n",
    "params = {'entity_id' : cp_entity_id , 'entity_type' : cp_entity_type , 'cuisines' : cuisine_id , 'sort' : 'rating' , 'count' : 10} \n",
    "response = requests.get(basic_api + '/search' , headers = header , params = params)\n",
    "data = response.json()\n",
    "data\n",
    "for i in data['restaurants']:\n",
    "    print(\"Name of restaurant :\",i['restaurant']['name'])\n",
    "    print(\"User-Rating :\",i['restaurant']['user_rating']['aggregate_rating'])\n",
    "    print(\"Restaurant-ID :\",i['restaurant']['R']['res_id'])\n",
    "    print('---------------------------------------------------------------------------------------------------------------------')"
   ]
  },
  {
   "cell_type": "code",
   "execution_count": 16,
   "metadata": {},
   "outputs": [
    {
     "name": "stdout",
     "output_type": "stream",
     "text": [
      "6\n"
     ]
    }
   ],
   "source": [
    "response = requests.get(basic_api + '/categories' , headers = header)\n",
    "data = response.json()\n",
    "data\n",
    "for i in data['categories']:\n",
    "    if(i['categories']['name']=='Cafes'):\n",
    "        print(i['categories']['id'])"
   ]
  },
  {
   "cell_type": "code",
   "execution_count": 18,
   "metadata": {},
   "outputs": [
    {
     "name": "stdout",
     "output_type": "stream",
     "text": [
      "Name of restaurant : Xero Degrees\n",
      "User-Rating : 4.3\n",
      "Restaurant-ID : 18729557\n",
      "---------------------------------------------------------------------------------------------------------------------\n",
      "Name of restaurant : Chaayos - Meri Wali Chai\n",
      "User-Rating : 4.2\n",
      "Restaurant-ID : 18237315\n",
      "---------------------------------------------------------------------------------------------------------------------\n",
      "Name of restaurant : The Art House Restaurant\n",
      "User-Rating : 4.1\n",
      "Restaurant-ID : 18863766\n",
      "---------------------------------------------------------------------------------------------------------------------\n",
      "Name of restaurant : The Chai Story\n",
      "User-Rating : 3.9\n",
      "Restaurant-ID : 18445782\n",
      "---------------------------------------------------------------------------------------------------------------------\n",
      "Name of restaurant : Cafe Coffee Day - The Square\n",
      "User-Rating : 3.9\n",
      "Restaurant-ID : 303034\n",
      "---------------------------------------------------------------------------------------------------------------------\n"
     ]
    }
   ],
   "source": [
    "cp_entity_type = 'subzone'\n",
    "cp_entity_id = 104\n",
    "cuisine_id = 73\n",
    "category_id = 6\n",
    "params = {'entity_id' : cp_entity_id , 'entity_type' : cp_entity_type , 'cuisines' : cuisine_id , 'category' : category_id , 'sort' : 'rating' , 'count' : 10} \n",
    "response = requests.get(basic_api + '/search' , headers = header , params = params)\n",
    "data = response.json()\n",
    "data\n",
    "for i in data['restaurants']:\n",
    "    print(\"Name of restaurant :\",i['restaurant']['name'])\n",
    "    print(\"User-Rating :\",i['restaurant']['user_rating']['aggregate_rating'])\n",
    "    print(\"Restaurant-ID :\",i['restaurant']['R']['res_id'])\n",
    "    print('---------------------------------------------------------------------------------------------------------------------')"
   ]
  },
  {
   "cell_type": "code",
   "execution_count": 32,
   "metadata": {},
   "outputs": [
    {
     "name": "stdout",
     "output_type": "stream",
     "text": [
      "4.6\n",
      "2500\n",
      "Asian, Chinese, Thai, Japanese, Sushi, Malaysian, Momos, Beverages\n",
      "A-3, Select Citywalk, District Centre, Saket, New Delhi\n"
     ]
    }
   ],
   "source": [
    "response = requests.get(basic_api + '/restaurant' , headers = header , params = {'user_key' : user_key , 'res_id' : 18429148})\n",
    "data = response.json()\n",
    "print(data['user_rating']['aggregate_rating'])\n",
    "print(data['average_cost_for_two'])\n",
    "print(data['cuisines'])\n",
    "print(data['location']['address'])"
   ]
  },
  {
   "cell_type": "code",
   "execution_count": 34,
   "metadata": {},
   "outputs": [
    {
     "name": "stdout",
     "output_type": "stream",
     "text": [
      "yes\n"
     ]
    }
   ],
   "source": [
    "response = requests.get(basic_api + '/restaurant' , headers = header , params = {'user_key' : user_key , 'res_id' : 18429148})\n",
    "data = response.json()\n",
    "if data['is_table_reservation_supported']==1:\n",
    "    print(\"yes\")\n",
    "else:\n",
    "    print(\"No\")"
   ]
  },
  {
   "cell_type": "code",
   "execution_count": 36,
   "metadata": {},
   "outputs": [
    {
     "name": "stdout",
     "output_type": "stream",
     "text": [
      "193\n"
     ]
    }
   ],
   "source": [
    "response = requests.get(basic_api + '/cuisines' , headers = header , params = {'user_key' : user_key , 'city_id' : 1})\n",
    "data = response.json()\n",
    "for i in data['cuisines']:\n",
    "    if i['cuisine']['cuisine_name']=='BBQ':\n",
    "        print(i['cuisine']['cuisine_id'])"
   ]
  },
  {
   "cell_type": "code",
   "execution_count": 40,
   "metadata": {},
   "outputs": [
    {
     "name": "stdout",
     "output_type": "stream",
     "text": [
      "Restaurant Name : Peshawari Kohat Wale\n",
      "User Rating : 4.0\n",
      "Restaurant ID : 4683\n",
      "Locality : Pitampura\n",
      "--------------------------------------------------------------------------------------------------------------------\n",
      "Restaurant Name : Tandoori Nights\n",
      "User Rating : 0\n",
      "Restaurant ID : 19661940\n",
      "Locality : Pitampura\n",
      "--------------------------------------------------------------------------------------------------------------------\n",
      "Restaurant Name : UBQ by Barbeque Nation\n",
      "User Rating : 3.6\n",
      "Restaurant ID : 18889769\n",
      "Locality : Netaji Subhash Place\n",
      "--------------------------------------------------------------------------------------------------------------------\n",
      "Restaurant Name : Barbeque Nation\n",
      "User Rating : 4.1\n",
      "Restaurant ID : 9561\n",
      "Locality : Netaji Subhash Place\n",
      "--------------------------------------------------------------------------------------------------------------------\n",
      "Restaurant Name : Anytime Chicken\n",
      "User Rating : 0\n",
      "Restaurant ID : 19520153\n",
      "Locality : Shalimar Bagh\n",
      "--------------------------------------------------------------------------------------------------------------------\n",
      "Restaurant Name : Barbeque Nation\n",
      "User Rating : 3.7\n",
      "Restaurant ID : 19931419\n",
      "Locality : Lawrence Road\n",
      "--------------------------------------------------------------------------------------------------------------------\n",
      "Restaurant Name : UBQ by Barbeque Nation\n",
      "User Rating : 3.9\n",
      "Restaurant ID : 19082741\n",
      "Locality : Lawrence Road\n",
      "--------------------------------------------------------------------------------------------------------------------\n",
      "Restaurant Name : Chef Master Daddy\n",
      "User Rating : 0\n",
      "Restaurant ID : 19849702\n",
      "Locality : Wazirpur\n",
      "--------------------------------------------------------------------------------------------------------------------\n",
      "Restaurant Name : Moet's Barbeque\n",
      "User Rating : 0\n",
      "Restaurant ID : 19238917\n",
      "Locality : Alipur\n",
      "--------------------------------------------------------------------------------------------------------------------\n",
      "Restaurant Name : The Tangdi Club\n",
      "User Rating : 0\n",
      "Restaurant ID : 19779002\n",
      "Locality : Rohini\n",
      "--------------------------------------------------------------------------------------------------------------------\n"
     ]
    }
   ],
   "source": [
    "latitude = 28.697522\n",
    "longitude = 77.140681\n",
    "params = {'user_key':user_key , 'sort':'real_distance' , 'lat' : latitude , 'lon' : longitude , 'count' : 10 , 'cuisines' : 193}\n",
    "response = requests.get(basic_api + '/search' , headers = header , params = params)\n",
    "data = response.json()\n",
    "data\n",
    "for i in data['restaurants']:\n",
    "    print('Restaurant Name :',i['restaurant']['name'])\n",
    "    print('User Rating :',i['restaurant']['user_rating']['aggregate_rating'])\n",
    "    print('Restaurant ID :',i['restaurant']['R']['res_id'])\n",
    "    print('Locality :',i['restaurant']['location']['locality'])\n",
    "    print('--------------------------------------------------------------------------------------------------------------------')"
   ]
  },
  {
   "cell_type": "code",
   "execution_count": 41,
   "metadata": {},
   "outputs": [
    {
     "name": "stdout",
     "output_type": "stream",
     "text": [
      "Restaurant Name : Indian Accent\n",
      "User Rating : 4.9\n",
      "Restaurant ID : 2004\n",
      "Locality : The Lodhi, Lodhi Road\n",
      "--------------------------------------------------------------------------------------------------------------------\n",
      "Restaurant Name : Kuremal Mohan Lal Kulfi Wale\n",
      "User Rating : 4.9\n",
      "Restaurant ID : 303642\n",
      "Locality : Chawri Bazar\n",
      "--------------------------------------------------------------------------------------------------------------------\n",
      "Restaurant Name : The Big Chill\n",
      "User Rating : 4.9\n",
      "Restaurant ID : 1614\n",
      "Locality : Khan Market\n",
      "--------------------------------------------------------------------------------------------------------------------\n",
      "Restaurant Name : Dum-Pukht - ITC Maurya\n",
      "User Rating : 4.9\n",
      "Restaurant ID : 2744\n",
      "Locality : ITC Maurya, Chanakyapuri\n",
      "--------------------------------------------------------------------------------------------------------------------\n",
      "Restaurant Name : The Big Chill\n",
      "User Rating : 4.9\n",
      "Restaurant ID : 8244\n",
      "Locality : Khan Market\n",
      "--------------------------------------------------------------------------------------------------------------------\n",
      "Restaurant Name : MamaMia Kitchen\n",
      "User Rating : 4.9\n",
      "Restaurant ID : 19573325\n",
      "Locality : Paschim Vihar\n",
      "--------------------------------------------------------------------------------------------------------------------\n",
      "Restaurant Name : Chaudhary Chaap\n",
      "User Rating : 4.9\n",
      "Restaurant ID : 19049811\n",
      "Locality : Shahdara\n",
      "--------------------------------------------------------------------------------------------------------------------\n",
      "Restaurant Name : The Fab Cake\n",
      "User Rating : 4.9\n",
      "Restaurant ID : 19426406\n",
      "Locality : Kirti Nagar\n",
      "--------------------------------------------------------------------------------------------------------------------\n",
      "Restaurant Name : Lazeez Biryani\n",
      "User Rating : 4.9\n",
      "Restaurant ID : 19760766\n",
      "Locality : Sector 8\n",
      "--------------------------------------------------------------------------------------------------------------------\n",
      "Restaurant Name : Captain Kebab\n",
      "User Rating : 4.9\n",
      "Restaurant ID : 19658628\n",
      "Locality : Naraina\n",
      "--------------------------------------------------------------------------------------------------------------------\n"
     ]
    }
   ],
   "source": [
    "latitude = 28.697522\n",
    "longitude = 77.140681\n",
    "params = {'user_key':user_key , 'lat' : latitude , 'lon' : longitude , 'sort' : 'rating' , 'count' : 10 , 'radius' : 4000}\n",
    "response = requests.get(basic_api + '/search' , headers = header , params = params)\n",
    "data = response.json()\n",
    "data\n",
    "for i in data['restaurants']:\n",
    "    print('Restaurant Name :',i['restaurant']['name'])\n",
    "    print('User Rating :',i['restaurant']['user_rating']['aggregate_rating'])\n",
    "    print('Restaurant ID :',i['restaurant']['R']['res_id'])\n",
    "    print('Locality :',i['restaurant']['location']['locality'])\n",
    "    print('--------------------------------------------------------------------------------------------------------------------')"
   ]
  },
  {
   "cell_type": "code",
   "execution_count": null,
   "metadata": {},
   "outputs": [],
   "source": []
  }
 ],
 "metadata": {
  "kernelspec": {
   "display_name": "Python 3",
   "language": "python",
   "name": "python3"
  },
  "language_info": {
   "codemirror_mode": {
    "name": "ipython",
    "version": 3
   },
   "file_extension": ".py",
   "mimetype": "text/x-python",
   "name": "python",
   "nbconvert_exporter": "python",
   "pygments_lexer": "ipython3",
   "version": "3.8.5"
  }
 },
 "nbformat": 4,
 "nbformat_minor": 4
}
